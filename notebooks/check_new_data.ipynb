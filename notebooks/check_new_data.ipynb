{
 "cells": [
  {
   "cell_type": "code",
   "execution_count": 3,
   "metadata": {
    "collapsed": false
   },
   "outputs": [
    {
     "name": "stdout",
     "output_type": "stream",
     "text": [
      "/home/wallar/projects/ridesharing/c++/data-sim\n",
      "/home/wallar/projects/ridesharing/c++/data-sim/v1000-c4-w300-p0-2-18-2013-1489260474\n"
     ]
    }
   ],
   "source": [
    "%cd /home/wallar/projects/ridesharing/c++/data-sim/\n",
    "%cd v1000-c4-w300-p0-2-18-2013-1489260474"
   ]
  },
  {
   "cell_type": "code",
   "execution_count": 4,
   "metadata": {
    "collapsed": true
   },
   "outputs": [],
   "source": [
    "import pandas as pd"
   ]
  },
  {
   "cell_type": "code",
   "execution_count": 5,
   "metadata": {
    "collapsed": true
   },
   "outputs": [],
   "source": [
    "df = pd.read_csv(\"metrics_its.csv\")"
   ]
  },
  {
   "cell_type": "code",
   "execution_count": 6,
   "metadata": {
    "collapsed": false
   },
   "outputs": [
    {
     "name": "stderr",
     "output_type": "stream",
     "text": [
      "/usr/local/lib/python2.7/dist-packages/numpy/lib/function_base.py:4116: RuntimeWarning: Invalid value encountered in percentile\n",
      "  interpolation=interpolation)\n"
     ]
    },
    {
     "data": {
      "text/html": [
       "<div>\n",
       "<table border=\"1\" class=\"dataframe\">\n",
       "  <thead>\n",
       "    <tr style=\"text-align: right;\">\n",
       "      <th></th>\n",
       "      <th>Unnamed: 0</th>\n",
       "      <th>active_taxis</th>\n",
       "      <th>capacity</th>\n",
       "      <th>empty_moving_to_pickup</th>\n",
       "      <th>empty_rebalancing</th>\n",
       "      <th>empty_waiting</th>\n",
       "      <th>is_long</th>\n",
       "      <th>mean_delay</th>\n",
       "      <th>mean_km_travelled</th>\n",
       "      <th>mean_passengers</th>\n",
       "      <th>...</th>\n",
       "      <th>time_pass_2</th>\n",
       "      <th>time_pass_3</th>\n",
       "      <th>time_pass_4</th>\n",
       "      <th>time_pass_5</th>\n",
       "      <th>time_pass_6</th>\n",
       "      <th>time_pass_7</th>\n",
       "      <th>time_pass_8</th>\n",
       "      <th>time_pass_9</th>\n",
       "      <th>total_km_travelled</th>\n",
       "      <th>total_passengers</th>\n",
       "    </tr>\n",
       "  </thead>\n",
       "  <tbody>\n",
       "    <tr>\n",
       "      <th>count</th>\n",
       "      <td>2879.000000</td>\n",
       "      <td>2879.000000</td>\n",
       "      <td>2879.0</td>\n",
       "      <td>2879.000000</td>\n",
       "      <td>2879.000000</td>\n",
       "      <td>2879.0</td>\n",
       "      <td>2879.0</td>\n",
       "      <td>2875.000000</td>\n",
       "      <td>2879.000000</td>\n",
       "      <td>2879.000000</td>\n",
       "      <td>...</td>\n",
       "      <td>2879.000000</td>\n",
       "      <td>2879.000000</td>\n",
       "      <td>2879.000000</td>\n",
       "      <td>2879.0</td>\n",
       "      <td>2879.0</td>\n",
       "      <td>2879.0</td>\n",
       "      <td>2879.0</td>\n",
       "      <td>2879.0</td>\n",
       "      <td>2879.000000</td>\n",
       "      <td>2879.000000</td>\n",
       "    </tr>\n",
       "    <tr>\n",
       "      <th>mean</th>\n",
       "      <td>1439.000000</td>\n",
       "      <td>516.654047</td>\n",
       "      <td>4.0</td>\n",
       "      <td>8.907954</td>\n",
       "      <td>474.437999</td>\n",
       "      <td>0.0</td>\n",
       "      <td>1.0</td>\n",
       "      <td>378.750128</td>\n",
       "      <td>107.316655</td>\n",
       "      <td>1.450488</td>\n",
       "      <td>...</td>\n",
       "      <td>115.453630</td>\n",
       "      <td>158.415769</td>\n",
       "      <td>167.183050</td>\n",
       "      <td>0.0</td>\n",
       "      <td>0.0</td>\n",
       "      <td>0.0</td>\n",
       "      <td>0.0</td>\n",
       "      <td>0.0</td>\n",
       "      <td>107316.654862</td>\n",
       "      <td>66261.895102</td>\n",
       "    </tr>\n",
       "    <tr>\n",
       "      <th>std</th>\n",
       "      <td>831.240038</td>\n",
       "      <td>197.212540</td>\n",
       "      <td>0.0</td>\n",
       "      <td>12.796784</td>\n",
       "      <td>194.915030</td>\n",
       "      <td>0.0</td>\n",
       "      <td>0.0</td>\n",
       "      <td>50.263893</td>\n",
       "      <td>73.871705</td>\n",
       "      <td>0.658665</td>\n",
       "      <td>...</td>\n",
       "      <td>39.050579</td>\n",
       "      <td>76.416595</td>\n",
       "      <td>97.219471</td>\n",
       "      <td>0.0</td>\n",
       "      <td>0.0</td>\n",
       "      <td>0.0</td>\n",
       "      <td>0.0</td>\n",
       "      <td>0.0</td>\n",
       "      <td>73871.704820</td>\n",
       "      <td>50952.802306</td>\n",
       "    </tr>\n",
       "    <tr>\n",
       "      <th>min</th>\n",
       "      <td>0.000000</td>\n",
       "      <td>0.000000</td>\n",
       "      <td>4.0</td>\n",
       "      <td>0.000000</td>\n",
       "      <td>272.000000</td>\n",
       "      <td>0.0</td>\n",
       "      <td>1.0</td>\n",
       "      <td>0.000000</td>\n",
       "      <td>0.000000</td>\n",
       "      <td>0.000000</td>\n",
       "      <td>...</td>\n",
       "      <td>0.000000</td>\n",
       "      <td>0.000000</td>\n",
       "      <td>0.000000</td>\n",
       "      <td>0.0</td>\n",
       "      <td>0.0</td>\n",
       "      <td>0.0</td>\n",
       "      <td>0.0</td>\n",
       "      <td>0.0</td>\n",
       "      <td>0.000000</td>\n",
       "      <td>0.000000</td>\n",
       "    </tr>\n",
       "    <tr>\n",
       "      <th>25%</th>\n",
       "      <td>719.500000</td>\n",
       "      <td>415.000000</td>\n",
       "      <td>4.0</td>\n",
       "      <td>4.000000</td>\n",
       "      <td>331.500000</td>\n",
       "      <td>0.0</td>\n",
       "      <td>1.0</td>\n",
       "      <td>NaN</td>\n",
       "      <td>34.237299</td>\n",
       "      <td>0.998000</td>\n",
       "      <td>...</td>\n",
       "      <td>100.000000</td>\n",
       "      <td>108.500000</td>\n",
       "      <td>68.000000</td>\n",
       "      <td>0.0</td>\n",
       "      <td>0.0</td>\n",
       "      <td>0.0</td>\n",
       "      <td>0.0</td>\n",
       "      <td>0.0</td>\n",
       "      <td>34237.298537</td>\n",
       "      <td>13933.000000</td>\n",
       "    </tr>\n",
       "    <tr>\n",
       "      <th>50%</th>\n",
       "      <td>1439.000000</td>\n",
       "      <td>610.000000</td>\n",
       "      <td>4.0</td>\n",
       "      <td>6.000000</td>\n",
       "      <td>383.000000</td>\n",
       "      <td>0.0</td>\n",
       "      <td>1.0</td>\n",
       "      <td>NaN</td>\n",
       "      <td>96.345406</td>\n",
       "      <td>1.772000</td>\n",
       "      <td>...</td>\n",
       "      <td>123.000000</td>\n",
       "      <td>189.000000</td>\n",
       "      <td>215.000000</td>\n",
       "      <td>0.0</td>\n",
       "      <td>0.0</td>\n",
       "      <td>0.0</td>\n",
       "      <td>0.0</td>\n",
       "      <td>0.0</td>\n",
       "      <td>96345.405890</td>\n",
       "      <td>57417.000000</td>\n",
       "    </tr>\n",
       "    <tr>\n",
       "      <th>75%</th>\n",
       "      <td>2158.500000</td>\n",
       "      <td>663.000000</td>\n",
       "      <td>4.0</td>\n",
       "      <td>10.000000</td>\n",
       "      <td>570.000000</td>\n",
       "      <td>0.0</td>\n",
       "      <td>1.0</td>\n",
       "      <td>NaN</td>\n",
       "      <td>174.157404</td>\n",
       "      <td>1.982000</td>\n",
       "      <td>...</td>\n",
       "      <td>142.000000</td>\n",
       "      <td>219.500000</td>\n",
       "      <td>246.000000</td>\n",
       "      <td>0.0</td>\n",
       "      <td>0.0</td>\n",
       "      <td>0.0</td>\n",
       "      <td>0.0</td>\n",
       "      <td>0.0</td>\n",
       "      <td>174157.403520</td>\n",
       "      <td>113267.000000</td>\n",
       "    </tr>\n",
       "    <tr>\n",
       "      <th>max</th>\n",
       "      <td>2878.000000</td>\n",
       "      <td>721.000000</td>\n",
       "      <td>4.0</td>\n",
       "      <td>198.000000</td>\n",
       "      <td>902.000000</td>\n",
       "      <td>0.0</td>\n",
       "      <td>1.0</td>\n",
       "      <td>585.600000</td>\n",
       "      <td>240.990336</td>\n",
       "      <td>2.166000</td>\n",
       "      <td>...</td>\n",
       "      <td>209.000000</td>\n",
       "      <td>271.000000</td>\n",
       "      <td>314.000000</td>\n",
       "      <td>0.0</td>\n",
       "      <td>0.0</td>\n",
       "      <td>0.0</td>\n",
       "      <td>0.0</td>\n",
       "      <td>0.0</td>\n",
       "      <td>240990.336000</td>\n",
       "      <td>155717.000000</td>\n",
       "    </tr>\n",
       "  </tbody>\n",
       "</table>\n",
       "<p>8 rows × 42 columns</p>\n",
       "</div>"
      ],
      "text/plain": [
       "        Unnamed: 0  active_taxis  capacity  empty_moving_to_pickup  \\\n",
       "count  2879.000000   2879.000000    2879.0             2879.000000   \n",
       "mean   1439.000000    516.654047       4.0                8.907954   \n",
       "std     831.240038    197.212540       0.0               12.796784   \n",
       "min       0.000000      0.000000       4.0                0.000000   \n",
       "25%     719.500000    415.000000       4.0                4.000000   \n",
       "50%    1439.000000    610.000000       4.0                6.000000   \n",
       "75%    2158.500000    663.000000       4.0               10.000000   \n",
       "max    2878.000000    721.000000       4.0              198.000000   \n",
       "\n",
       "       empty_rebalancing  empty_waiting  is_long   mean_delay  \\\n",
       "count        2879.000000         2879.0   2879.0  2875.000000   \n",
       "mean          474.437999            0.0      1.0   378.750128   \n",
       "std           194.915030            0.0      0.0    50.263893   \n",
       "min           272.000000            0.0      1.0     0.000000   \n",
       "25%           331.500000            0.0      1.0          NaN   \n",
       "50%           383.000000            0.0      1.0          NaN   \n",
       "75%           570.000000            0.0      1.0          NaN   \n",
       "max           902.000000            0.0      1.0   585.600000   \n",
       "\n",
       "       mean_km_travelled  mean_passengers        ...         time_pass_2  \\\n",
       "count        2879.000000      2879.000000        ...         2879.000000   \n",
       "mean          107.316655         1.450488        ...          115.453630   \n",
       "std            73.871705         0.658665        ...           39.050579   \n",
       "min             0.000000         0.000000        ...            0.000000   \n",
       "25%            34.237299         0.998000        ...          100.000000   \n",
       "50%            96.345406         1.772000        ...          123.000000   \n",
       "75%           174.157404         1.982000        ...          142.000000   \n",
       "max           240.990336         2.166000        ...          209.000000   \n",
       "\n",
       "       time_pass_3  time_pass_4  time_pass_5  time_pass_6  time_pass_7  \\\n",
       "count  2879.000000  2879.000000       2879.0       2879.0       2879.0   \n",
       "mean    158.415769   167.183050          0.0          0.0          0.0   \n",
       "std      76.416595    97.219471          0.0          0.0          0.0   \n",
       "min       0.000000     0.000000          0.0          0.0          0.0   \n",
       "25%     108.500000    68.000000          0.0          0.0          0.0   \n",
       "50%     189.000000   215.000000          0.0          0.0          0.0   \n",
       "75%     219.500000   246.000000          0.0          0.0          0.0   \n",
       "max     271.000000   314.000000          0.0          0.0          0.0   \n",
       "\n",
       "       time_pass_8  time_pass_9  total_km_travelled  total_passengers  \n",
       "count       2879.0       2879.0         2879.000000       2879.000000  \n",
       "mean           0.0          0.0       107316.654862      66261.895102  \n",
       "std            0.0          0.0        73871.704820      50952.802306  \n",
       "min            0.0          0.0            0.000000          0.000000  \n",
       "25%            0.0          0.0        34237.298537      13933.000000  \n",
       "50%            0.0          0.0        96345.405890      57417.000000  \n",
       "75%            0.0          0.0       174157.403520     113267.000000  \n",
       "max            0.0          0.0       240990.336000     155717.000000  \n",
       "\n",
       "[8 rows x 42 columns]"
      ]
     },
     "execution_count": 6,
     "metadata": {},
     "output_type": "execute_result"
    }
   ],
   "source": [
    "df.describe()"
   ]
  },
  {
   "cell_type": "code",
   "execution_count": 15,
   "metadata": {
    "collapsed": false
   },
   "outputs": [],
   "source": [
    "sp = df[\"n_pickups\"].sum() / (df[\"n_pickups\"].sum() + df[\"n_ignored\"].sum())"
   ]
  },
  {
   "cell_type": "code",
   "execution_count": 17,
   "metadata": {
    "collapsed": false
   },
   "outputs": [
    {
     "name": "stdout",
     "output_type": "stream",
     "text": [
      "0.396620055526\n"
     ]
    }
   ],
   "source": [
    "df[\"serviced_percentage\"]"
   ]
  },
  {
   "cell_type": "code",
   "execution_count": 18,
   "metadata": {
    "collapsed": true
   },
   "outputs": [],
   "source": [
    "mtd = df[\"mean_delay\"] - df[\"mean_waiting_time\"]"
   ]
  },
  {
   "cell_type": "code",
   "execution_count": 19,
   "metadata": {
    "collapsed": false
   },
   "outputs": [
    {
     "name": "stdout",
     "output_type": "stream",
     "text": [
      "195.505325818\n"
     ]
    }
   ],
   "source": [
    "print mtd.mean()"
   ]
  },
  {
   "cell_type": "code",
   "execution_count": null,
   "metadata": {
    "collapsed": true
   },
   "outputs": [],
   "source": []
  }
 ],
 "metadata": {
  "kernelspec": {
   "display_name": "Python 2",
   "language": "python",
   "name": "python2"
  },
  "language_info": {
   "codemirror_mode": {
    "name": "ipython",
    "version": 2
   },
   "file_extension": ".py",
   "mimetype": "text/x-python",
   "name": "python",
   "nbconvert_exporter": "python",
   "pygments_lexer": "ipython2",
   "version": "2.7.6"
  }
 },
 "nbformat": 4,
 "nbformat_minor": 0
}
